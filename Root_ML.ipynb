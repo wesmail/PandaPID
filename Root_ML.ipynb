{
 "cells": [
  {
   "cell_type": "code",
   "execution_count": null,
   "metadata": {},
   "outputs": [],
   "source": [
    "# import the necessary libraries\n",
    "import ROOT\n",
    "from subprocess import call\n",
    "from os.path import isfile\n",
    "\n",
    "import warnings\n",
    "warnings.filterwarnings('ignore')"
   ]
  },
  {
   "cell_type": "code",
   "execution_count": null,
   "metadata": {},
   "outputs": [],
   "source": [
    "# a function for loading the data\n",
    "def loaddata(name):\n",
    "    filestring=\"/home/lewis/particles/evt_500k_\" + name + \".root\"\n",
    "    file = ROOT.TFile.Open(filestring, 'read')\n",
    "    particles = file.Get('t1')\n",
    "    return file, particles\n",
    "\n",
    "#load the data for the different particles\n",
    "e, electrons = loaddata('electrons')\n",
    "pi , pions = loaddata('pions')\n",
    "m , muons = loaddata('muons')\n",
    "k , kaons = loaddata('kaons')\n",
    "p , protons = loaddata('protons')"
   ]
  },
  {
   "cell_type": "code",
   "execution_count": null,
   "metadata": {},
   "outputs": [],
   "source": [
    "# Add variables to dataloader\n",
    "dataloader = ROOT.TMVA.DataLoader('dataset_pymva')\n",
    "numVariables = len(electrons.GetListOfBranches())\n",
    "for branch in electrons.GetListOfBranches():\n",
    "    dataloader.AddVariable(branch.GetName())\n",
    "\n",
    "# Add trees to dataloader\n",
    "dataloader.AddTree(electrons, 'Electrons')\n",
    "dataloader.AddTree(pions, 'Pions')\n",
    "dataloader.AddTree(muons, 'Muons')\n",
    "dataloader.AddTree(kaons, 'Kaons')\n",
    "dataloader.AddTree(protons, 'Protons')\n",
    "dataloader.PrepareTrainingAndTestTree(ROOT.TCut(''),'SplitMode=Random:NormMode=None:!V')"
   ]
  },
  {
   "cell_type": "code",
   "execution_count": null,
   "metadata": {},
   "outputs": [],
   "source": [
    "import numpy as np\n",
    "import pandas as pd\n",
    "from root_numpy import root2array, rec2array, list_branches\n",
    "branch_names = list_branches(\"/home/lewis/particles/evt_500k_electrons.root\")\n",
    "\n",
    "# load the same data, but in a numpy array\n",
    "# this numpy array will be used for training a keras model\n",
    "def loadtrainingdata(name):\n",
    "    filestring=\"/home/lewis/particles/evt_500k_\" + name + \".root\"\n",
    "    vals = root2array(filestring, 't1', branch_names)\n",
    "    vals = rec2array(vals)\n",
    "    print(vals.shape)\n",
    "    return vals\n",
    "\n",
    "\n",
    "# load the training data\n",
    "electrons = loadtrainingdata('electrons')\n",
    "pions = loadtrainingdata('pions')\n",
    "muons = loadtrainingdata('muons')\n",
    "kaons = loadtrainingdata('kaons')\n",
    "protons = loadtrainingdata('protons')\n",
    "\n",
    "# create the pandas dataframe\n",
    "X = np.concatenate((electrons, pions, muons, kaons, protons))\n",
    "y = np.concatenate(( np.zeros(electrons.shape[0]),np.ones(pions.shape[0]), (2*np.ones(muons.shape[0])), (3*np.ones(kaons.shape[0])), (4*np.ones(protons.shape[0])) ))\n",
    "df = pd.DataFrame(np.hstack((X, y.reshape(y.shape[0], -1))),columns=branch_names+['temp'])"
   ]
  },
  {
   "cell_type": "code",
   "execution_count": null,
   "metadata": {},
   "outputs": [],
   "source": [
    "from sklearn.model_selection import train_test_split\n",
    "from keras.utils.np_utils import to_categorical\n",
    "\n",
    "num_classes = 5\n",
    "\n",
    "#split the data into training and testing\n",
    "X_train,X_test, y_train,y_test = train_test_split(df.iloc[:,0:-1], df.iloc[:,-1],\\\n",
    "                                test_size=0.20, random_state=42)\n",
    "# one hot encoding\n",
    "y_train = to_categorical(y_train, num_classes)\n",
    "y_test = to_categorical(y_test, num_classes)"
   ]
  },
  {
   "cell_type": "code",
   "execution_count": null,
   "metadata": {},
   "outputs": [],
   "source": [
    "# Setup TMVA\n",
    "ROOT.TMVA.Tools.Instance()\n",
    "ROOT.TMVA.PyMethodBase.PyInitialize()\n",
    "\n",
    "outputFile = ROOT.TFile.Open('TMVAOutputPyMVA.root', 'RECREATE')\n",
    "factory = ROOT.TMVA.Factory('TMVAClassification', outputFile,\n",
    "        '!V:!Silent:Color:DrawProgressBar:Transformations=I,G:'+\\\n",
    "        'AnalysisType=Multiclass')"
   ]
  },
  {
   "cell_type": "code",
   "execution_count": null,
   "metadata": {},
   "outputs": [],
   "source": [
    "# Select Theano as backend for Keras\n",
    "from os import environ\n",
    "environ['KERAS_BACKEND'] = 'theano'\n",
    "\n",
    "# Set architecture of system (AVX instruction set is not supported on SWAN)\n",
    "environ['THEANO_FLAGS'] = 'gcc.cxxflags=-march=corei7'\n",
    "\n",
    "from keras.models import Sequential\n",
    "from keras.layers.core import Dense, Dropout\n",
    "from keras.optimizers import Adam\n",
    "from keras.callbacks import EarlyStopping\n",
    "\n",
    "# some variables\n",
    "batch_size = 4096\n",
    "epochs = 1200\n",
    "\n",
    "\n",
    "\n",
    "# Define model\n",
    "model = Sequential()\n",
    "model.add(Dense(128, init='glorot_normal', activation='relu',\n",
    "        input_dim=numVariables))\n",
    "model.add(Dense(64, init='glorot_normal', activation='relu'))\n",
    "model.add(Dense(32, init='glorot_normal', activation='relu'))\n",
    "model.add(Dense(16, init='glorot_normal', activation='relu'))\n",
    "model.add(Dropout(0.25))\n",
    "model.add(Dense(num_classes, init='glorot_uniform', activation='softmax'))\n",
    "\n",
    "# Set loss and optimizer\n",
    "model.compile(loss='categorical_crossentropy', optimizer=Adam(),\n",
    "        metrics=['accuracy',])\n",
    "\n",
    "# Print summary of model\n",
    "model.summary()\n",
    "\n",
    "# train the model with these parameters\n",
    "history = model.fit(X_train , y_train,\n",
    "                    batch_size=batch_size,\n",
    "                    epochs=epochs,\n",
    "                    verbose=1,\n",
    "                    callbacks=[EarlyStopping(verbose=True, patience=100, monitor='val_loss')],\n",
    "                    validation_data=(X_test , y_test))\n",
    "\n",
    "\n",
    "# Store model to file|\n",
    "model.save('model.h5')"
   ]
  },
  {
   "cell_type": "code",
   "execution_count": null,
   "metadata": {},
   "outputs": [],
   "source": [
    "# Keras interface with previously defined model\n",
    "factory.BookMethod(dataloader, ROOT.TMVA.Types.kPyKeras, 'PyKeras',\\\n",
    "        'H:!V:VarTransform=G:FilenameModel=model.h5:'+\\\n",
    "        'NumEpochs=1:BatchSize=32')"
   ]
  },
  {
   "cell_type": "code",
   "execution_count": null,
   "metadata": {},
   "outputs": [],
   "source": [
    "# Run training\n",
    "# This will continue the training began earlier\n",
    "factory.TrainAllMethods()"
   ]
  },
  {
   "cell_type": "code",
   "execution_count": null,
   "metadata": {},
   "outputs": [],
   "source": [
    "#Run testing and evaluation of the model\n",
    "factory.TestAllMethods()\n",
    "factory.EvaluateAllMethods()"
   ]
  },
  {
   "cell_type": "code",
   "execution_count": null,
   "metadata": {},
   "outputs": [],
   "source": []
  }
 ],
 "metadata": {
  "kernelspec": {
   "display_name": "Python 3",
   "language": "python",
   "name": "python3"
  },
  "language_info": {
   "codemirror_mode": {
    "name": "ipython",
    "version": 3
   },
   "file_extension": ".py",
   "mimetype": "text/x-python",
   "name": "python",
   "nbconvert_exporter": "python",
   "pygments_lexer": "ipython3",
   "version": "3.7.3"
  }
 },
 "nbformat": 4,
 "nbformat_minor": 2
}
