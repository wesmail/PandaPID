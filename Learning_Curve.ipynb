{
 "cells": [
  {
   "cell_type": "code",
   "execution_count": 1,
   "metadata": {},
   "outputs": [
    {
     "data": {
      "application/javascript": [
       "require(['codemirror/mode/clike/clike'], function(Clike) { console.log('ROOTaaS - C++ CodeMirror module loaded'); });"
      ]
     },
     "metadata": {},
     "output_type": "display_data"
    },
    {
     "data": {
      "application/javascript": [
       "IPython.CodeCell.config_defaults.highlight_modes['magic_text/x-c++src'] = {'reg':[/^%%cpp/]};"
      ]
     },
     "metadata": {},
     "output_type": "display_data"
    },
    {
     "name": "stdout",
     "output_type": "stream",
     "text": [
      "Welcome to ROOTaaS 6.06/02\n",
      "42\n"
     ]
    }
   ],
   "source": [
    "import numpy as np\n",
    "import pandas as pd\n",
    "import seaborn as sns\n",
    "import matplotlib.pyplot as plt\n",
    "from root_numpy import root2array, rec2array\n",
    "import matplotlib.pyplot as plt\n",
    "%matplotlib tk\n",
    "\n",
    "branch_names = '''momentumx, momentumy,momentumz,momentum,energy,position,MvdDEDX,MvdHits,SttMeanDEDX,SttHits,GemHits,\n",
    "TofStopTime,TofM2,TofTrackLength,TofQuality,TofBeta,DrcThetaC,DrcQuality,DiscThetaC,DiscQuality,\n",
    "EmcRawEnergy,EmcCalEnergy,EmcQuality,EmcNumberOfCrystals,EmcNumberOfBumps,EmcModule,\n",
    "EmcZ20,EmcZ53,EmcLat,EmcE1,EmcE9,EmcE25,MuoQuality,MuoIron,MuoMomentumIn,MuoNumberOfLayers,MuoModule,MuoHits,\n",
    "DegreesOfFreedom,ChiSquared'''.split(\",\")\n",
    "\n",
    "\n",
    "branch_names = [c.strip() for c in branch_names]\n",
    "branch_names = list(branch_names)\n",
    "###################################################################################\n",
    "\n",
    "electrons = root2array('/home/wesmail/Downloads/EvtGen/twoFS/EvtGenEMinus_tree.root', 't1', branch_names)\n",
    "electrons = rec2array(electrons)\n",
    "\n",
    "pions = root2array('/home/wesmail/Downloads/EvtGen/twoFS/EvtGenPiMinus_tree.root', 't1', branch_names)\n",
    "pions = rec2array(pions)\n",
    "\n",
    "muons = root2array('/home/wesmail/Downloads/EvtGen/twoFS/EvtGenMuMinus_tree.root', 't1', branch_names)\n",
    "muons = rec2array(muons)\n",
    "\n",
    "kaons = root2array('/home/wesmail/Downloads/EvtGen/twoFS/EvtGenKMinus_tree.root', 't1', branch_names)\n",
    "kaons = rec2array(kaons)\n",
    "\n",
    "anti_p = root2array('/home/wesmail/Downloads/EvtGen/twoFS/EvtGenPMinus_tree.root', 't1', branch_names)\n",
    "anti_p = rec2array(anti_p)\n",
    "\n",
    "###################################################################################\n",
    "X = np.concatenate((electrons, pions, muons, kaons, anti_p))\n",
    "y = np.concatenate(( np.zeros(electrons.shape[0]),np.ones(pions.shape[0]), (2*np.ones(muons.shape[0])), (3*np.ones(kaons.shape[0])), (4*np.ones(anti_p.shape[0])) ))\n",
    "df = pd.DataFrame(np.hstack((X, y.reshape(y.shape[0], -1))),columns=branch_names+['temp'])\n",
    "\n",
    "# added features\n",
    "#df['E9/E25'] = df.loc[:,'EmcE9']/df.loc[:,'EmcE25']\n",
    "#df['E1/E25'] = df.loc[:,'EmcE1']/df.loc[:,'EmcE25']\n",
    "df['E/p'] = df.loc[:,'EmcCalEnergy']/df.loc[:,'momentum']\n",
    "df['labels'] = df.loc[:,'temp']\n",
    "df = df.drop(['temp'], axis=1)\n",
    "#df = df.dropna()\n",
    "print(len(df.columns))"
   ]
  },
  {
   "cell_type": "code",
   "execution_count": 11,
   "metadata": {},
   "outputs": [
    {
     "data": {
      "text/plain": [
       "<matplotlib.legend.Legend at 0x7fd36bdd9c10>"
      ]
     },
     "execution_count": 11,
     "metadata": {},
     "output_type": "execute_result"
    },
    {
     "data": {
      "image/png": "[encoded data removed]",
      "text/plain": [
       "<matplotlib.figure.Figure at 0x7fd36bdd9b50>"
      ]
     },
     "metadata": {},
     "output_type": "display_data"
    }
   ],
   "source": [
    "from sklearn.learning_curve import learning_curve\n",
    "from sklearn.ensemble import RandomForestClassifier\n",
    "\n",
    "fig, ax = plt.subplots()\n",
    "\n",
    "Nrf, train_lc_rf, val_lc_rf = learning_curve(RandomForestClassifier(random_state=0, n_jobs=-1), df.iloc[:,0:-1], df.iloc[:,-1], cv=3,train_sizes=np.linspace(0.25, 1, 30))\n",
    "\n",
    "#ax.plot(Nrf, np.mean(train_lc_rf, 1), color='blue', label='training score')\n",
    "ax.plot(Nrf, np.mean(val_lc_rf, 1), color='red', label='validation score')\n",
    "ax.grid()\n",
    "ax.set_xlim(N[0], Nrf[-1])\n",
    "ax.set_xlabel('training size')\n",
    "ax.set_ylabel('score')\n",
    "ax.legend(loc='best')"
   ]
  },
  {
   "cell_type": "code",
   "execution_count": null,
   "metadata": {},
   "outputs": [],
   "source": []
  }
 ],
 "metadata": {
  "kernelspec": {
   "display_name": "Python 2",
   "language": "python",
   "name": "python2"
  },
  "language_info": {
   "codemirror_mode": {
    "name": "ipython",
    "version": 2
   },
   "file_extension": ".py",
   "mimetype": "text/x-python",
   "name": "python",
   "nbconvert_exporter": "python",
   "pygments_lexer": "ipython2",
   "version": "2.7.12"
  }
 },
 "nbformat": 4,
 "nbformat_minor": 2
}
