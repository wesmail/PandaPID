{
 "cells": [
  {
   "cell_type": "code",
   "execution_count": 25,
   "metadata": {},
   "outputs": [],
   "source": [
    "import findspark\n",
    "findspark.init(\"/home/wesmail/Panda/spark-2.2.1-bin-hadoop2.7\")\n",
    "\n",
    "from pyspark.sql import SparkSession\n",
    "from pyspark.sql import Row\n",
    "from pyspark.sql.types import *\n",
    "\n",
    "spark = SparkSession.builder  \\\n",
    ".master(\"local[4]\")  \\\n",
    ".appName(\"Multiclass Classification\")  \\\n",
    ".config(\"spark.executor.memory\",\"2gb\")  \\\n",
    ".getOrCreate()\n",
    "\n",
    "sc = spark.sparkContext"
   ]
  },
  {
   "cell_type": "code",
   "execution_count": 1,
   "metadata": {},
   "outputs": [
    {
     "data": {
      "application/javascript": [
       "require(['codemirror/mode/clike/clike'], function(Clike) { console.log('ROOTaaS - C++ CodeMirror module loaded'); });"
      ]
     },
     "metadata": {},
     "output_type": "display_data"
    },
    {
     "data": {
      "application/javascript": [
       "IPython.CodeCell.config_defaults.highlight_modes['magic_text/x-c++src'] = {'reg':[/^%%cpp/]};"
      ]
     },
     "metadata": {},
     "output_type": "display_data"
    },
    {
     "name": "stdout",
     "output_type": "stream",
     "text": [
      "Welcome to ROOTaaS 6.06/02\n"
     ]
    }
   ],
   "source": [
    "import numpy as np\n",
    "from root_numpy import root2array, tree2array, rec2array\n",
    "import pandas as pd\n",
    "\n",
    "branch_names = '''momentumx, momentumy,momentumz,momentum,energy,position,MvdDEDX,MvdHits,SttMeanDEDX,SttHits,GemHits,TofStopTime,\n",
    "TofM2,TofTrackLength,TofQuality,TofBeta,DrcThetaC,DrcQuality,\n",
    "DiscThetaC,DiscQuality,\n",
    "EmcRawEnergy,EmcCalEnergy,EmcQuality,EmcNumberOfCrystals,EmcNumberOfBumps,EmcModule,\n",
    "EmcZ20,EmcZ53,EmcLat,EmcE1,EmcE9,EmcE25,MuoQuality,MuoIron,MuoMomentumIn,MuoNumberOfLayers,MuoModule,MuoHits,\n",
    "DegreesOfFreedom,ChiSquared'''.split(\",\")\n",
    "\n",
    "branch_names = [c.strip() for c in branch_names]\n",
    "branch_names = list(branch_names)\n",
    "\n",
    "electrons = root2array(\"/home/wesmail/Downloads/treeElectrons.root\", \"t1\", branch_names)\n",
    "electrons = rec2array(electrons)\n",
    "\n",
    "pions = root2array(\"/home/wesmail/Downloads/treePions.root\", \"t1\", branch_names)\n",
    "pions = rec2array(pions)\n",
    "\n",
    "muons = root2array(\"/home/wesmail/Downloads/treeMuons.root\", \"t1\", branch_names)\n",
    "muons = rec2array(muons)\n",
    "\n",
    "kaons = root2array(\"/home/wesmail/Downloads/treeKaons.root\", \"t1\", branch_names)\n",
    "kaons = rec2array(kaons)\n",
    "\n",
    "anti_p = root2array(\"/home/wesmail/Downloads/treeProtons.root\", \"t1\", branch_names)\n",
    "anti_p = rec2array(anti_p)\n",
    "\n",
    "X = np.concatenate((electrons, pions, muons, kaons, anti_p))\n",
    "y = np.concatenate(( np.zeros(electrons.shape[0]),np.ones(pions.shape[0]), (2*np.ones(muons.shape[0])), (3*np.ones(kaons.shape[0])), (4*np.ones(anti_p.shape[0])) ))\n",
    "df = pd.DataFrame(np.hstack((X, y.reshape(y.shape[0], -1))),columns=branch_names+['temp'])\n",
    "\n",
    "df['Momentum'] = np.sqrt(df.loc[:,'momentum']) \n",
    "df = df.drop(['momentum'], axis=1)\n",
    "df['E9/E25'] = df.loc[:,'EmcE9']/df.loc[:,'EmcE25']\n",
    "df['E1/E25'] = df.loc[:,'EmcE1']/df.loc[:,'EmcE25']\n",
    "df['E/p'] = df.loc[:,'EmcCalEnergy']/df.loc[:,'Momentum']\n",
    "df['labels'] = df.loc[:,'temp']\n",
    "df = df.drop(['temp'], axis=1)\n",
    "df = df.dropna()\n",
    "\n",
    "from sklearn.model_selection import train_test_split\n",
    "X_train,X_test, y_train,y_test = train_test_split(df.iloc[:,0:-1], df.iloc[:,-1], test_size=0.30, random_state=0)"
   ]
  },
  {
   "cell_type": "code",
   "execution_count": 6,
   "metadata": {},
   "outputs": [],
   "source": [
    "from spark_sklearn import GridSearchCV\n",
    "from sklearn.tree import DecisionTreeClassifier\n",
    "from sklearn.ensemble import GradientBoostingClassifier\n",
    "from sklearn.ensemble import AdaBoostClassifier\n",
    "\n",
    "#dt = DecisionTreeClassifier(max_depth=3,min_samples_leaf=0.05*len(X_train))\n",
    "#bdt = AdaBoostClassifier(dt,algorithm='SAMME',n_estimators=800,learning_rate=0.5)\n",
    "\n",
    "#param_grid = {'max_depth': np.arange(1,30,1), 'n_estimators': np.arange(100,1001,100),\n",
    "#             'max_features': np.arange(5,30,2), 'learning_rate': np.arange(0.1,0.6,0.1)}\n",
    "\n",
    "#param_grid = {'max_depth': np.arange(1,30,1)}\n",
    "\n",
    "#bdt = GradientBoostingClassifier(max_depth=9, n_estimators=1000, learning_rate=0.4, max_features=23, random_state=0)\n",
    "#clf = GridSearchCV(sc, bdt, param_grid=param_grid, n_jobs=4) # remember I removed cv=3, preferably cv=5 or 10"
   ]
  },
  {
   "cell_type": "code",
   "execution_count": 4,
   "metadata": {},
   "outputs": [
    {
     "data": {
      "text/plain": [
       "GradientBoostingClassifier(criterion='friedman_mse', init=None,\n",
       "              learning_rate=0.4, loss='deviance', max_depth=9,\n",
       "              max_features=23, max_leaf_nodes=None,\n",
       "              min_impurity_decrease=0.0, min_impurity_split=None,\n",
       "              min_samples_leaf=1, min_samples_split=2,\n",
       "              min_weight_fraction_leaf=0.0, n_estimators=1000,\n",
       "              presort='auto', random_state=0, subsample=1.0, verbose=0,\n",
       "              warm_start=False)"
      ]
     },
     "execution_count": 4,
     "metadata": {},
     "output_type": "execute_result"
    }
   ],
   "source": [
    "bdt.fit(X_train, y_train)"
   ]
  },
  {
   "cell_type": "code",
   "execution_count": null,
   "metadata": {},
   "outputs": [],
   "source": [
    "# Compute ROC curve and ROC area for each class\n",
    "from sklearn.metrics import roc_curve, auc\n",
    "fpr = dict()\n",
    "tpr = dict()\n",
    "roc_auc = dict()\n",
    "y_score = bdt.decision_function(X_test)\n",
    "for i in range(5):\n",
    "    fpr[i], tpr[i], _ = roc_curve(y_test[:, i], y_score[:, i])\n",
    "    roc_auc[i] = auc(fpr[i], tpr[i])"
   ]
  },
  {
   "cell_type": "code",
   "execution_count": 39,
   "metadata": {},
   "outputs": [
    {
     "name": "stdout",
     "output_type": "stream",
     "text": [
      "The score accuracy on BDT (max_depth=10) is:  1.0000\n"
     ]
    }
   ],
   "source": [
    "y_predicted = bdt.predict(X_train)\n",
    "from sklearn.metrics import accuracy_score\n",
    "print(\"The score accuracy on BDT (max_depth=10) is:  %.4f\"%accuracy_score(y_train,y_predicted))"
   ]
  },
  {
   "cell_type": "code",
   "execution_count": 2,
   "metadata": {},
   "outputs": [],
   "source": [
    "from sklearn import tree\n",
    "from sklearn.ensemble import RandomForestClassifier\n",
    "from sklearn.tree import DecisionTreeClassifier\n",
    "model = DecisionTreeClassifier(max_depth=2, criterion='entropy')\n",
    "bdt = model.fit(X_train, y_train)\n",
    "#bdt = tree.DecisionTreeClassifier(max_depth = 3).fit(X_train, y_train)"
   ]
  },
  {
   "cell_type": "code",
   "execution_count": 3,
   "metadata": {},
   "outputs": [
    {
     "data": {
      "text/plain": [
       "'bdt.pdf'"
      ]
     },
     "execution_count": 3,
     "metadata": {},
     "output_type": "execute_result"
    }
   ],
   "source": [
    "import graphviz\n",
    "\n",
    "dot_data = tree.export_graphviz(bdt, out_file=None) \n",
    "graph = graphviz.Source(dot_data) \n",
    "graph.render(\"bdt\") "
   ]
  },
  {
   "cell_type": "code",
   "execution_count": 9,
   "metadata": {
    "scrolled": false
   },
   "outputs": [
    {
     "data": {
      "image/svg+xml": [
       "<?xml version=\"1.0\" encoding=\"UTF-8\" standalone=\"no\"?>\n",
       "<!DOCTYPE svg PUBLIC \"-//W3C//DTD SVG 1.1//EN\"\n",
       " \"http://www.w3.org/Graphics/SVG/1.1/DTD/svg11.dtd\">\n",
       "<!-- Generated by graphviz version 2.38.0 (20140413.2041)\n",
       " -->\n",
       "<!-- Title: Tree Pages: 1 -->\n",
       "<svg width=\"1015pt\" height=\"314pt\"\n",
       " viewBox=\"0.00 0.00 1014.50 314.00\" xmlns=\"http://www.w3.org/2000/svg\" xmlns:xlink=\"http://www.w3.org/1999/xlink\">\n",
       "<g id=\"graph0\" class=\"graph\" transform=\"scale(1 1) rotate(0) translate(4 310)\">\n",
       "<title>Tree</title>\n",
       "<polygon fill=\"white\" stroke=\"none\" points=\"-4,4 -4,-310 1010.5,-310 1010.5,4 -4,4\"/>\n",
       "<!-- 0 -->\n",
       "<g id=\"node1\" class=\"node\"><title>0</title>\n",
       "<path fill=\"none\" stroke=\"black\" d=\"M660.5,-306C660.5,-306 394.5,-306 394.5,-306 388.5,-306 382.5,-300 382.5,-294 382.5,-294 382.5,-235 382.5,-235 382.5,-229 388.5,-223 394.5,-223 394.5,-223 660.5,-223 660.5,-223 666.5,-223 672.5,-229 672.5,-235 672.5,-235 672.5,-294 672.5,-294 672.5,-300 666.5,-306 660.5,-306\"/>\n",
       "<text text-anchor=\"start\" x=\"492.5\" y=\"-290.8\" font-family=\"Helvetica,sans-Serif\" font-size=\"14.00\">E/p ≤ 0.845</text>\n",
       "<text text-anchor=\"start\" x=\"480\" y=\"-275.8\" font-family=\"Helvetica,sans-Serif\" font-size=\"14.00\">entropy = 2.321</text>\n",
       "<text text-anchor=\"start\" x=\"471.5\" y=\"-260.8\" font-family=\"Helvetica,sans-Serif\" font-size=\"14.00\">samples = 109487</text>\n",
       "<text text-anchor=\"start\" x=\"390.5\" y=\"-245.8\" font-family=\"Helvetica,sans-Serif\" font-size=\"14.00\">value = [22645, 21989, 22711, 21077, 21065]</text>\n",
       "<text text-anchor=\"start\" x=\"492\" y=\"-230.8\" font-family=\"Helvetica,sans-Serif\" font-size=\"14.00\">class = mu&#45;</text>\n",
       "</g>\n",
       "<!-- 1 -->\n",
       "<g id=\"node2\" class=\"node\"><title>1</title>\n",
       "<path fill=\"#39e5c5\" fill-opacity=\"0.011765\" stroke=\"black\" d=\"M519.5,-187C519.5,-187 261.5,-187 261.5,-187 255.5,-187 249.5,-181 249.5,-175 249.5,-175 249.5,-116 249.5,-116 249.5,-110 255.5,-104 261.5,-104 261.5,-104 519.5,-104 519.5,-104 525.5,-104 531.5,-110 531.5,-116 531.5,-116 531.5,-175 531.5,-175 531.5,-181 525.5,-187 519.5,-187\"/>\n",
       "<text text-anchor=\"start\" x=\"307.5\" y=\"-171.8\" font-family=\"Helvetica,sans-Serif\" font-size=\"14.00\">MuoNumberOfLayers ≤ 9.5</text>\n",
       "<text text-anchor=\"start\" x=\"343\" y=\"-156.8\" font-family=\"Helvetica,sans-Serif\" font-size=\"14.00\">entropy = 2.092</text>\n",
       "<text text-anchor=\"start\" x=\"338\" y=\"-141.8\" font-family=\"Helvetica,sans-Serif\" font-size=\"14.00\">samples = 84654</text>\n",
       "<text text-anchor=\"start\" x=\"257.5\" y=\"-126.8\" font-family=\"Helvetica,sans-Serif\" font-size=\"14.00\">value = [1578, 21769, 22621, 20475, 18211]</text>\n",
       "<text text-anchor=\"start\" x=\"355\" y=\"-111.8\" font-family=\"Helvetica,sans-Serif\" font-size=\"14.00\">class = mu&#45;</text>\n",
       "</g>\n",
       "<!-- 0&#45;&gt;1 -->\n",
       "<g id=\"edge1\" class=\"edge\"><title>0&#45;&gt;1</title>\n",
       "<path fill=\"none\" stroke=\"black\" d=\"M479.969,-222.907C468.917,-213.469 457.06,-203.343 445.709,-193.649\"/>\n",
       "<polygon fill=\"black\" stroke=\"black\" points=\"447.825,-190.854 437.947,-187.021 443.279,-196.177 447.825,-190.854\"/>\n",
       "<text text-anchor=\"middle\" x=\"439.91\" y=\"-208.244\" font-family=\"Helvetica,sans-Serif\" font-size=\"14.00\">True</text>\n",
       "</g>\n",
       "<!-- 4 -->\n",
       "<g id=\"node5\" class=\"node\"><title>4</title>\n",
       "<path fill=\"#e58139\" fill-opacity=\"0.827451\" stroke=\"black\" d=\"M767.5,-187C767.5,-187 561.5,-187 561.5,-187 555.5,-187 549.5,-181 549.5,-175 549.5,-175 549.5,-116 549.5,-116 549.5,-110 555.5,-104 561.5,-104 561.5,-104 767.5,-104 767.5,-104 773.5,-104 779.5,-110 779.5,-116 779.5,-116 779.5,-175 779.5,-175 779.5,-181 773.5,-187 767.5,-187\"/>\n",
       "<text text-anchor=\"start\" x=\"616\" y=\"-171.8\" font-family=\"Helvetica,sans-Serif\" font-size=\"14.00\">EmcLat ≤ 0.632</text>\n",
       "<text text-anchor=\"start\" x=\"620.5\" y=\"-156.8\" font-family=\"Helvetica,sans-Serif\" font-size=\"14.00\">entropy = 0.78</text>\n",
       "<text text-anchor=\"start\" x=\"612\" y=\"-141.8\" font-family=\"Helvetica,sans-Serif\" font-size=\"14.00\">samples = 24833</text>\n",
       "<text text-anchor=\"start\" x=\"557.5\" y=\"-126.8\" font-family=\"Helvetica,sans-Serif\" font-size=\"14.00\">value = [21067, 220, 90, 602, 2854]</text>\n",
       "<text text-anchor=\"start\" x=\"635\" y=\"-111.8\" font-family=\"Helvetica,sans-Serif\" font-size=\"14.00\">class = e&#45;</text>\n",
       "</g>\n",
       "<!-- 0&#45;&gt;4 -->\n",
       "<g id=\"edge4\" class=\"edge\"><title>0&#45;&gt;4</title>\n",
       "<path fill=\"none\" stroke=\"black\" d=\"M575.031,-222.907C586.083,-213.469 597.94,-203.343 609.291,-193.649\"/>\n",
       "<polygon fill=\"black\" stroke=\"black\" points=\"611.721,-196.177 617.053,-187.021 607.175,-190.854 611.721,-196.177\"/>\n",
       "<text text-anchor=\"middle\" x=\"615.09\" y=\"-208.244\" font-family=\"Helvetica,sans-Serif\" font-size=\"14.00\">False</text>\n",
       "</g>\n",
       "<!-- 2 -->\n",
       "<g id=\"node3\" class=\"node\"><title>2</title>\n",
       "<path fill=\"#7be539\" fill-opacity=\"0.031373\" stroke=\"black\" d=\"M263,-68C263,-68 12,-68 12,-68 6,-68 0,-62 0,-56 0,-56 0,-12 0,-12 0,-6 6,-0 12,-0 12,-0 263,-0 263,-0 269,-0 275,-6 275,-12 275,-12 275,-56 275,-56 275,-62 269,-68 263,-68\"/>\n",
       "<text text-anchor=\"start\" x=\"90\" y=\"-52.8\" font-family=\"Helvetica,sans-Serif\" font-size=\"14.00\">entropy = 2.051</text>\n",
       "<text text-anchor=\"start\" x=\"85\" y=\"-37.8\" font-family=\"Helvetica,sans-Serif\" font-size=\"14.00\">samples = 69516</text>\n",
       "<text text-anchor=\"start\" x=\"8\" y=\"-22.8\" font-family=\"Helvetica,sans-Serif\" font-size=\"14.00\">value = [1578, 21270, 9185, 19676, 17807]</text>\n",
       "<text text-anchor=\"start\" x=\"106.5\" y=\"-7.8\" font-family=\"Helvetica,sans-Serif\" font-size=\"14.00\">class = pi&#45;</text>\n",
       "</g>\n",
       "<!-- 1&#45;&gt;2 -->\n",
       "<g id=\"edge2\" class=\"edge\"><title>1&#45;&gt;2</title>\n",
       "<path fill=\"none\" stroke=\"black\" d=\"M296.652,-103.882C272.567,-93.4579 246.787,-82.3002 223.141,-72.0661\"/>\n",
       "<polygon fill=\"black\" stroke=\"black\" points=\"224.414,-68.8033 213.847,-68.0433 221.634,-75.2274 224.414,-68.8033\"/>\n",
       "</g>\n",
       "<!-- 3 -->\n",
       "<g id=\"node4\" class=\"node\"><title>3</title>\n",
       "<path fill=\"#39e5c5\" fill-opacity=\"0.882353\" stroke=\"black\" d=\"M496,-68C496,-68 305,-68 305,-68 299,-68 293,-62 293,-56 293,-56 293,-12 293,-12 293,-6 299,-0 305,-0 305,-0 496,-0 496,-0 502,-0 508,-6 508,-12 508,-12 508,-56 508,-56 508,-62 502,-68 496,-68\"/>\n",
       "<text text-anchor=\"start\" x=\"353\" y=\"-52.8\" font-family=\"Helvetica,sans-Serif\" font-size=\"14.00\">entropy = 0.679</text>\n",
       "<text text-anchor=\"start\" x=\"348\" y=\"-37.8\" font-family=\"Helvetica,sans-Serif\" font-size=\"14.00\">samples = 15138</text>\n",
       "<text text-anchor=\"start\" x=\"301\" y=\"-22.8\" font-family=\"Helvetica,sans-Serif\" font-size=\"14.00\">value = [0, 499, 13436, 799, 404]</text>\n",
       "<text text-anchor=\"start\" x=\"365\" y=\"-7.8\" font-family=\"Helvetica,sans-Serif\" font-size=\"14.00\">class = mu&#45;</text>\n",
       "</g>\n",
       "<!-- 1&#45;&gt;3 -->\n",
       "<g id=\"edge3\" class=\"edge\"><title>1&#45;&gt;3</title>\n",
       "<path fill=\"none\" stroke=\"black\" d=\"M394.224,-103.726C394.982,-95.4263 395.782,-86.6671 396.547,-78.2834\"/>\n",
       "<polygon fill=\"black\" stroke=\"black\" points=\"400.035,-78.5765 397.459,-68.2996 393.064,-77.9398 400.035,-78.5765\"/>\n",
       "</g>\n",
       "<!-- 5 -->\n",
       "<g id=\"node6\" class=\"node\"><title>5</title>\n",
       "<path fill=\"#e58139\" fill-opacity=\"0.949020\" stroke=\"black\" d=\"M754.5,-68C754.5,-68 556.5,-68 556.5,-68 550.5,-68 544.5,-62 544.5,-56 544.5,-56 544.5,-12 544.5,-12 544.5,-6 550.5,-0 556.5,-0 556.5,-0 754.5,-0 754.5,-0 760.5,-0 766.5,-6 766.5,-12 766.5,-12 766.5,-56 766.5,-56 766.5,-62 760.5,-68 754.5,-68\"/>\n",
       "<text text-anchor=\"start\" x=\"608\" y=\"-52.8\" font-family=\"Helvetica,sans-Serif\" font-size=\"14.00\">entropy = 0.363</text>\n",
       "<text text-anchor=\"start\" x=\"603\" y=\"-37.8\" font-family=\"Helvetica,sans-Serif\" font-size=\"14.00\">samples = 20872</text>\n",
       "<text text-anchor=\"start\" x=\"552.5\" y=\"-22.8\" font-family=\"Helvetica,sans-Serif\" font-size=\"14.00\">value = [19828, 118, 44, 303, 579]</text>\n",
       "<text text-anchor=\"start\" x=\"626\" y=\"-7.8\" font-family=\"Helvetica,sans-Serif\" font-size=\"14.00\">class = e&#45;</text>\n",
       "</g>\n",
       "<!-- 4&#45;&gt;5 -->\n",
       "<g id=\"edge5\" class=\"edge\"><title>4&#45;&gt;5</title>\n",
       "<path fill=\"none\" stroke=\"black\" d=\"M661.149,-103.726C660.467,-95.4263 659.747,-86.6671 659.058,-78.2834\"/>\n",
       "<polygon fill=\"black\" stroke=\"black\" points=\"662.544,-77.9793 658.237,-68.2996 655.568,-78.5527 662.544,-77.9793\"/>\n",
       "</g>\n",
       "<!-- 6 -->\n",
       "<g id=\"node7\" class=\"node\"><title>6</title>\n",
       "<path fill=\"#e539c0\" fill-opacity=\"0.380392\" stroke=\"black\" d=\"M994.5,-68C994.5,-68 796.5,-68 796.5,-68 790.5,-68 784.5,-62 784.5,-56 784.5,-56 784.5,-12 784.5,-12 784.5,-6 790.5,-0 796.5,-0 796.5,-0 994.5,-0 994.5,-0 1000.5,-0 1006.5,-6 1006.5,-12 1006.5,-12 1006.5,-56 1006.5,-56 1006.5,-62 1000.5,-68 994.5,-68\"/>\n",
       "<text text-anchor=\"start\" x=\"848\" y=\"-52.8\" font-family=\"Helvetica,sans-Serif\" font-size=\"14.00\">entropy = 1.476</text>\n",
       "<text text-anchor=\"start\" x=\"847\" y=\"-37.8\" font-family=\"Helvetica,sans-Serif\" font-size=\"14.00\">samples = 3961</text>\n",
       "<text text-anchor=\"start\" x=\"792.5\" y=\"-22.8\" font-family=\"Helvetica,sans-Serif\" font-size=\"14.00\">value = [1239, 102, 46, 299, 2275]</text>\n",
       "<text text-anchor=\"start\" x=\"866\" y=\"-7.8\" font-family=\"Helvetica,sans-Serif\" font-size=\"14.00\">class = p&#45;</text>\n",
       "</g>\n",
       "<!-- 4&#45;&gt;6 -->\n",
       "<g id=\"edge6\" class=\"edge\"><title>4&#45;&gt;6</title>\n",
       "<path fill=\"none\" stroke=\"black\" d=\"M750.188,-103.882C771.983,-93.5501 795.299,-82.4977 816.732,-72.3381\"/>\n",
       "<polygon fill=\"black\" stroke=\"black\" points=\"818.255,-75.4894 825.792,-68.0433 815.257,-69.1641 818.255,-75.4894\"/>\n",
       "</g>\n",
       "</g>\n",
       "</svg>\n"
      ],
      "text/plain": [
       "<graphviz.files.Source at 0x7f646929c250>"
      ]
     },
     "execution_count": 9,
     "metadata": {},
     "output_type": "execute_result"
    }
   ],
   "source": [
    "%matplotlib tk\n",
    "#df = df.drop(['labels'], axis=1)\n",
    "cols = list(df.columns)\n",
    "\n",
    "dot_data = tree.export_graphviz(bdt, out_file=None, \n",
    "                         filled=True, rounded=True,\n",
    "                         feature_names=cols,\n",
    "                         class_names=['e-','pi-', 'mu-', 'k-', 'p-'],\n",
    "                         special_characters=True)  \n",
    "graph = graphviz.Source(dot_data)  \n",
    "graph.render(\"bdt\") \n",
    "graph "
   ]
  },
  {
   "cell_type": "code",
   "execution_count": 38,
   "metadata": {},
   "outputs": [
    {
     "data": {
      "text/plain": [
       "(0, 1)"
      ]
     },
     "execution_count": 38,
     "metadata": {},
     "output_type": "execute_result"
    }
   ],
   "source": [
    "figfi = plt.figure()\n",
    "plt.plot(bdt.feature_importances_, 'o', color='red', markersize=15)\n",
    "plt.xticks(range(X.shape[1]), branch_names, rotation=90 )\n",
    "plt.ylim(0,1)"
   ]
  },
  {
   "cell_type": "code",
   "execution_count": null,
   "metadata": {},
   "outputs": [],
   "source": []
  }
 ],
 "metadata": {
  "kernelspec": {
   "display_name": "Python 3",
   "language": "python",
   "name": "python3"
  },
  "language_info": {
   "codemirror_mode": {
    "name": "ipython",
    "version": 3
   },
   "file_extension": ".py",
   "mimetype": "text/x-python",
   "name": "python",
   "nbconvert_exporter": "python",
   "pygments_lexer": "ipython3",
   "version": "3.7.3"
  }
 },
 "nbformat": 4,
 "nbformat_minor": 2
}
